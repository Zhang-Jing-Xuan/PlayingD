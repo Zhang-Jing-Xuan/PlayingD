{
 "cells": [
  {
   "cell_type": "code",
   "execution_count": 2,
   "metadata": {},
   "outputs": [
    {
     "data": {
      "text/plain": [
       "True"
      ]
     },
     "execution_count": 2,
     "metadata": {},
     "output_type": "execute_result"
    }
   ],
   "source": [
    "import tarfile\n",
    "def untar(fname, dirs):\n",
    "    \"\"\"\n",
    "    解压tar.gz文件\n",
    "    :param fname: 压缩文件名\n",
    "    :param dirs: 解压后的存放路径\n",
    "    :return: bool\n",
    "    \"\"\"\n",
    "    try:\n",
    "        t = tarfile.open(fname)\n",
    "        t.extractall(path = dirs)\n",
    "        return True\n",
    "    except Exception as e:\n",
    "        print(e)\n",
    "        return False\n",
    "source=\"cifar-10-python.tar.gz\"\n",
    "target=\"./data\"\n",
    "untar(source,target)"
   ]
  },
  {
   "cell_type": "code",
   "execution_count": 4,
   "metadata": {},
   "outputs": [
    {
     "name": "stdout",
     "output_type": "stream",
     "text": [
      "\n",
      "[1,   500] train_loss: 1.708  test_accuracy: 0.455\n",
      "[1,  1000] train_loss: 1.417  test_accuracy: 0.523\n",
      "[2,   500] train_loss: 1.174  test_accuracy: 0.584\n",
      "[2,  1000] train_loss: 1.143  test_accuracy: 0.611\n",
      "[3,   500] train_loss: 0.991  test_accuracy: 0.634\n",
      "[3,  1000] train_loss: 0.988  test_accuracy: 0.646\n",
      "[4,   500] train_loss: 0.898  test_accuracy: 0.642\n",
      "[4,  1000] train_loss: 0.902  test_accuracy: 0.670\n",
      "[5,   500] train_loss: 0.823  test_accuracy: 0.669\n",
      "[5,  1000] train_loss: 0.841  test_accuracy: 0.674\n",
      "Finished Training\n"
     ]
    }
   ],
   "source": [
    "%run train.py"
   ]
  },
  {
   "cell_type": "code",
   "execution_count": 5,
   "metadata": {},
   "outputs": [
    {
     "name": "stdout",
     "output_type": "stream",
     "text": [
      "deer\n"
     ]
    }
   ],
   "source": [
    "%run predict.py"
   ]
  },
  {
   "cell_type": "code",
   "execution_count": null,
   "metadata": {},
   "outputs": [],
   "source": []
  }
 ],
 "metadata": {
  "kernelspec": {
   "display_name": "Python 3",
   "language": "python",
   "name": "python3"
  },
  "language_info": {
   "codemirror_mode": {
    "name": "ipython",
    "version": 3
   },
   "file_extension": ".py",
   "mimetype": "text/x-python",
   "name": "python",
   "nbconvert_exporter": "python",
   "pygments_lexer": "ipython3",
   "version": "3.6.9"
  }
 },
 "nbformat": 4,
 "nbformat_minor": 4
}
