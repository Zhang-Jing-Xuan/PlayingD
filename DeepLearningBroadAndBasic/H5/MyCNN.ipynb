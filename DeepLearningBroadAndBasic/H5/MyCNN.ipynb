{
 "cells": [
  {
   "cell_type": "code",
   "execution_count": 5,
   "metadata": {},
   "outputs": [
    {
     "name": "stdout",
     "output_type": "stream",
     "text": [
      "/apps/bypy ($t $f $s $m $d):\n",
      "F food-11.zip 1163028761 2021-01-22, 20:26:42 7d9bbaedcqce1982041e54fba1f8c89f\n"
     ]
    },
    {
     "data": {
      "text/plain": [
       "0"
      ]
     },
     "execution_count": 5,
     "metadata": {},
     "output_type": "execute_result"
    }
   ],
   "source": [
    "from bypy import ByPy\n",
    "bp=ByPy()\n",
    "bp.list() # or whatever instance methods of ByPy class\n",
    "# bp.downfile(\"food-11.zip\")"
   ]
  },
  {
   "cell_type": "code",
   "execution_count": 6,
   "metadata": {},
   "outputs": [
    {
     "name": "stdout",
     "output_type": "stream",
     "text": [
      "文件已解压\n"
     ]
    }
   ],
   "source": [
    "import zipfile\n",
    "import os\n",
    "### 解压原始数据集，将src_path路径下的zip包解压至data/dataset目录下\n",
    "src_path=\"/home/mist/food-11.zip\"\n",
    "target_path=\"/home/mist/dataset\"\n",
    "def unzip_data(src_path,target_path):\n",
    "    if(not os.path.isdir(target_path)):    \n",
    "        z = zipfile.ZipFile(src_path, 'r')    # 只读方式打开压缩文件\n",
    "        z.extractall(path=target_path)        # 提取其中内容\n",
    "        z.close()\n",
    "    else:\n",
    "        print(\"文件已解压\")\n",
    "unzip_data(src_path,target_path)"
   ]
  },
  {
   "cell_type": "code",
   "execution_count": 7,
   "metadata": {},
   "outputs": [],
   "source": [
    "# import必要的第三方库\n",
    "import os\n",
    "import numpy as np\n",
    "import cv2\n",
    "import torch\n",
    "import torch.nn as nn\n",
    "import torchvision.transforms as transforms\n",
    "import pandas as pd\n",
    "from torch.utils.data import DataLoader, Dataset\n",
    "import time"
   ]
  },
  {
   "cell_type": "code",
   "execution_count": 8,
   "metadata": {},
   "outputs": [],
   "source": [
    "def readfile(path, label):\n",
    "    # label 是一个 boolean variable，代表需不需要回传 y 值\n",
    "    image_dir = sorted(os.listdir(path))\n",
    "    x = np.zeros((len(image_dir), 128, 128, 3), dtype=np.uint8)\n",
    "    y = np.zeros((len(image_dir)), dtype=np.uint8)\n",
    "    for i, file in enumerate(image_dir):\n",
    "        img = cv2.imread(os.path.join(path, file))\n",
    "        x[i, :, :] = cv2.resize(img,(128, 128))\n",
    "        if label:\n",
    "          y[i] = int(file.split(\"_\")[0])\n",
    "    if label:\n",
    "      return x, y\n",
    "    else:\n",
    "      return x"
   ]
  },
  {
   "cell_type": "code",
   "execution_count": 9,
   "metadata": {},
   "outputs": [
    {
     "name": "stdout",
     "output_type": "stream",
     "text": [
      "Reading data\n",
      "Size of training data = 9866\n",
      "Size of validation data = 3430\n",
      "Size of Testing data = 3347\n"
     ]
    }
   ],
   "source": [
    "#分別计算training set、validation set、testing set 的大小\n",
    "workspace_dir = './dataset/food-11'\n",
    "print(\"Reading data\")\n",
    "train_x, train_y = readfile(os.path.join(workspace_dir, \"training\"), True)\n",
    "print(\"Size of training data = {}\".format(len(train_x)))\n",
    "val_x, val_y = readfile(os.path.join(workspace_dir, \"validation\"), True)\n",
    "print(\"Size of validation data = {}\".format(len(val_x)))\n",
    "test_x = readfile(os.path.join(workspace_dir, \"testing\"), False)\n",
    "print(\"Size of Testing data = {}\".format(len(test_x)))"
   ]
  },
  {
   "cell_type": "code",
   "execution_count": 10,
   "metadata": {},
   "outputs": [],
   "source": [
    "train_transform = transforms.Compose([\n",
    "    transforms.ToPILImage(),\n",
    "    transforms.RandomHorizontalFlip(), #随机将图片水平翻转\n",
    "    transforms.RandomRotation(15), #随机旋转图片\n",
    "    transforms.ToTensor(), #将图片转成 Tensor\n",
    "])\n",
    "#testing 时不需做 data augmentation\n",
    "test_transform = transforms.Compose([\n",
    "    transforms.ToPILImage(),                                    \n",
    "    transforms.ToTensor(),\n",
    "])\n",
    "class ImgDataset(Dataset):\n",
    "    def __init__(self, x, y=None, transform=None):\n",
    "        self.x = x\n",
    "        # label is required to be a LongTensor\n",
    "        self.y = y\n",
    "        if y is not None:\n",
    "            self.y = torch.LongTensor(y)\n",
    "        self.transform = transform\n",
    "    def __len__(self):\n",
    "        return len(self.x)\n",
    "    def __getitem__(self, index):\n",
    "        X = self.x[index]\n",
    "        if self.transform is not None:\n",
    "            X = self.transform(X)\n",
    "        if self.y is not None:\n",
    "            Y = self.y[index]\n",
    "            return X, Y\n",
    "        else:\n",
    "            return X"
   ]
  },
  {
   "cell_type": "code",
   "execution_count": 11,
   "metadata": {},
   "outputs": [],
   "source": [
    "batch_size = 128\n",
    "train_set = ImgDataset(train_x, train_y, train_transform)\n",
    "val_set = ImgDataset(val_x, val_y, test_transform)\n",
    "train_loader = DataLoader(train_set, batch_size=batch_size, shuffle=True)\n",
    "val_loader = DataLoader(val_set, batch_size=batch_size, shuffle=False)"
   ]
  },
  {
   "cell_type": "code",
   "execution_count": 12,
   "metadata": {},
   "outputs": [],
   "source": [
    "#Model\n",
    "class Classifier(nn.Module):\n",
    "    def __init__(self):\n",
    "        super(Classifier, self).__init__()\n",
    "        #torch.nn.Conv2d(in_channels, out_channels, kernel_size, stride, padding)\n",
    "        #torch.nn.MaxPool2d(kernel_size, stride, padding)\n",
    "        #input 維度 [3, 128, 128]\n",
    "        self.cnn = nn.Sequential(\n",
    "            nn.Conv2d(3, 64, 3, 1, 1),  # [64, 128, 128]\n",
    "            nn.BatchNorm2d(64),\n",
    "            nn.ReLU(),\n",
    "            nn.MaxPool2d(2, 2, 0),      # [64, 64, 64]\n",
    "\n",
    "            nn.Conv2d(64, 128, 3, 1, 1), # [128, 64, 64]\n",
    "            nn.BatchNorm2d(128),\n",
    "            nn.ReLU(),\n",
    "            nn.MaxPool2d(2, 2, 0),      # [128, 32, 32]\n",
    "\n",
    "            nn.Conv2d(128, 256, 3, 1, 1), # [256, 32, 32]\n",
    "            nn.BatchNorm2d(256),\n",
    "            nn.ReLU(),\n",
    "            nn.MaxPool2d(2, 2, 0),      # [256, 16, 16]\n",
    "\n",
    "            nn.Conv2d(256, 512, 3, 1, 1), # [512, 16, 16]\n",
    "            nn.BatchNorm2d(512),\n",
    "            nn.ReLU(),\n",
    "            nn.MaxPool2d(2, 2, 0),       # [512, 8, 8]\n",
    "            \n",
    "            nn.Conv2d(512, 512, 3, 1, 1), # [512, 8, 8]\n",
    "            nn.BatchNorm2d(512),\n",
    "            nn.ReLU(),\n",
    "            nn.MaxPool2d(2, 2, 0),       # [512, 4, 4]\n",
    "        )\n",
    "        self.fc = nn.Sequential(\n",
    "            nn.Linear(512*4*4, 1024),\n",
    "            nn.ReLU(),\n",
    "            nn.Linear(1024, 512),\n",
    "            nn.ReLU(),\n",
    "            nn.Linear(512, 11)\n",
    "        )\n",
    "\n",
    "    def forward(self, x):\n",
    "        out = self.cnn(x)\n",
    "        out = out.view(out.size()[0], -1)\n",
    "        return self.fc(out)"
   ]
  },
  {
   "cell_type": "code",
   "execution_count": 13,
   "metadata": {},
   "outputs": [
    {
     "name": "stdout",
     "output_type": "stream",
     "text": [
      "[001/030] 12.44 sec(s) Train Acc: 0.226840 Loss: 0.018302 | Val Acc: 0.267347 loss: 0.016121\n",
      "[002/030] 12.64 sec(s) Train Acc: 0.326373 Loss: 0.015155 | Val Acc: 0.338192 loss: 0.014949\n",
      "[003/030] 12.71 sec(s) Train Acc: 0.389824 Loss: 0.013840 | Val Acc: 0.353353 loss: 0.015569\n",
      "[004/030] 12.36 sec(s) Train Acc: 0.433914 Loss: 0.012723 | Val Acc: 0.404373 loss: 0.013916\n",
      "[005/030] 12.35 sec(s) Train Acc: 0.468782 Loss: 0.012029 | Val Acc: 0.439359 loss: 0.012788\n",
      "[006/030] 12.36 sec(s) Train Acc: 0.517332 Loss: 0.011086 | Val Acc: 0.406414 loss: 0.014660\n",
      "[007/030] 14.57 sec(s) Train Acc: 0.519157 Loss: 0.010866 | Val Acc: 0.443732 loss: 0.013112\n",
      "[008/030] 12.44 sec(s) Train Acc: 0.557369 Loss: 0.009973 | Val Acc: 0.507872 loss: 0.012217\n",
      "[009/030] 12.41 sec(s) Train Acc: 0.585344 Loss: 0.009368 | Val Acc: 0.462974 loss: 0.013969\n",
      "[010/030] 12.41 sec(s) Train Acc: 0.619603 Loss: 0.008849 | Val Acc: 0.399417 loss: 0.014760\n",
      "[011/030] 12.43 sec(s) Train Acc: 0.614940 Loss: 0.008568 | Val Acc: 0.399417 loss: 0.016654\n",
      "[012/030] 12.43 sec(s) Train Acc: 0.643523 Loss: 0.008063 | Val Acc: 0.576676 loss: 0.010394\n",
      "[013/030] 12.40 sec(s) Train Acc: 0.662173 Loss: 0.007693 | Val Acc: 0.528571 loss: 0.011854\n",
      "[014/030] 12.41 sec(s) Train Acc: 0.678086 Loss: 0.007504 | Val Acc: 0.573761 loss: 0.010622\n",
      "[015/030] 12.42 sec(s) Train Acc: 0.690351 Loss: 0.006981 | Val Acc: 0.615452 loss: 0.009523\n",
      "[016/030] 12.48 sec(s) Train Acc: 0.719643 Loss: 0.006327 | Val Acc: 0.550729 loss: 0.011797\n",
      "[017/030] 12.40 sec(s) Train Acc: 0.720555 Loss: 0.006289 | Val Acc: 0.603499 loss: 0.009792\n",
      "[018/030] 12.71 sec(s) Train Acc: 0.737077 Loss: 0.005929 | Val Acc: 0.606706 loss: 0.010086\n",
      "[019/030] 12.37 sec(s) Train Acc: 0.751368 Loss: 0.005697 | Val Acc: 0.626531 loss: 0.009077\n",
      "[020/030] 12.35 sec(s) Train Acc: 0.767180 Loss: 0.005211 | Val Acc: 0.637318 loss: 0.009292\n",
      "[021/030] 12.46 sec(s) Train Acc: 0.783296 Loss: 0.005034 | Val Acc: 0.593003 loss: 0.011761\n",
      "[022/030] 12.46 sec(s) Train Acc: 0.765457 Loss: 0.005405 | Val Acc: 0.660058 loss: 0.009000\n",
      "[023/030] 12.42 sec(s) Train Acc: 0.785729 Loss: 0.004907 | Val Acc: 0.629738 loss: 0.010545\n",
      "[024/030] 12.40 sec(s) Train Acc: 0.801946 Loss: 0.004491 | Val Acc: 0.524198 loss: 0.015836\n",
      "[025/030] 12.49 sec(s) Train Acc: 0.818974 Loss: 0.004235 | Val Acc: 0.642566 loss: 0.009890\n",
      "[026/030] 12.47 sec(s) Train Acc: 0.827995 Loss: 0.003989 | Val Acc: 0.633528 loss: 0.009634\n",
      "[027/030] 12.46 sec(s) Train Acc: 0.847659 Loss: 0.003402 | Val Acc: 0.637318 loss: 0.010994\n",
      "[028/030] 12.42 sec(s) Train Acc: 0.835293 Loss: 0.003816 | Val Acc: 0.634111 loss: 0.010613\n",
      "[029/030] 12.38 sec(s) Train Acc: 0.854855 Loss: 0.003302 | Val Acc: 0.628571 loss: 0.011221\n",
      "[030/030] 12.42 sec(s) Train Acc: 0.847861 Loss: 0.003432 | Val Acc: 0.651312 loss: 0.009821\n"
     ]
    }
   ],
   "source": [
    "#Training\n",
    "model = Classifier().cuda()\n",
    "loss = nn.CrossEntropyLoss() # 因为是 classification task，所以 loss 使用 CrossEntropyLoss\n",
    "optimizer = torch.optim.Adam(model.parameters(), lr=0.001) # optimizer 使用 Adam\n",
    "num_epoch = 30 # 训练轮数\n",
    "\n",
    "for epoch in range(num_epoch):\n",
    "    epoch_start_time = time.time()\n",
    "    train_acc = 0.0\n",
    "    train_loss = 0.0\n",
    "    val_acc = 0.0\n",
    "    val_loss = 0.0\n",
    "\n",
    "    model.train() # 确保 model 是在 train model (开启 Dropout 等...)\n",
    "    for i, data in enumerate(train_loader):\n",
    "        optimizer.zero_grad() # 用 optimizer 将 model 参数的 gradient 归零\n",
    "        train_pred = model(data[0].cuda()) # 利用 model 得到预测的机率分布 这边实际上就是去呼叫 model 的 forward 函数\n",
    "        batch_loss = loss(train_pred, data[1].cuda()) # 计算 loss （注意 prediction 跟 label 必须同时在 CPU 或是 GPU 上）\n",
    "        batch_loss.backward() # 利用 back propagation 算出每个参数的 gradient\n",
    "        optimizer.step() # 以 optimizer 用 gradient 更新参数值\n",
    "\n",
    "        train_acc += np.sum(np.argmax(train_pred.cpu().data.numpy(), axis=1) == data[1].numpy())\n",
    "        train_loss += batch_loss.item()\n",
    "    \n",
    "    model.eval()\n",
    "    with torch.no_grad():\n",
    "        for i, data in enumerate(val_loader):\n",
    "            val_pred = model(data[0].cuda())\n",
    "            batch_loss = loss(val_pred, data[1].cuda())\n",
    "\n",
    "            val_acc += np.sum(np.argmax(val_pred.cpu().data.numpy(), axis=1) == data[1].numpy())\n",
    "            val_loss += batch_loss.item()\n",
    "\n",
    "        #將結果 print 出來\n",
    "        print('[%03d/%03d] %2.2f sec(s) Train Acc: %3.6f Loss: %3.6f | Val Acc: %3.6f loss: %3.6f' % \\\n",
    "            (epoch + 1, num_epoch, time.time()-epoch_start_time, \\\n",
    "             train_acc/train_set.__len__(), train_loss/train_set.__len__(), val_acc/val_set.__len__(), val_loss/val_set.__len__()))"
   ]
  },
  {
   "cell_type": "code",
   "execution_count": 14,
   "metadata": {},
   "outputs": [],
   "source": [
    "train_val_x = np.concatenate((train_x, val_x), axis=0)\n",
    "train_val_y = np.concatenate((train_y, val_y), axis=0)\n",
    "train_val_set = ImgDataset(train_val_x, train_val_y, train_transform)\n",
    "train_val_loader = DataLoader(train_val_set, batch_size=batch_size, shuffle=True)"
   ]
  },
  {
   "cell_type": "code",
   "execution_count": 15,
   "metadata": {},
   "outputs": [
    {
     "name": "stdout",
     "output_type": "stream",
     "text": [
      "[001/030] 14.83 sec(s) Train Acc: 0.265719 Loss: 0.016674\n",
      "[002/030] 14.41 sec(s) Train Acc: 0.384627 Loss: 0.013714\n",
      "[003/030] 14.43 sec(s) Train Acc: 0.455099 Loss: 0.012203\n",
      "[004/030] 14.44 sec(s) Train Acc: 0.504212 Loss: 0.011111\n",
      "[005/030] 14.52 sec(s) Train Acc: 0.543773 Loss: 0.010290\n",
      "[006/030] 14.64 sec(s) Train Acc: 0.584311 Loss: 0.009414\n",
      "[007/030] 14.48 sec(s) Train Acc: 0.608303 Loss: 0.008859\n",
      "[008/030] 14.43 sec(s) Train Acc: 0.637485 Loss: 0.008101\n",
      "[009/030] 14.44 sec(s) Train Acc: 0.655235 Loss: 0.007730\n",
      "[010/030] 14.53 sec(s) Train Acc: 0.683965 Loss: 0.007175\n",
      "[011/030] 14.43 sec(s) Train Acc: 0.699383 Loss: 0.006749\n",
      "[012/030] 14.44 sec(s) Train Acc: 0.715102 Loss: 0.006360\n",
      "[013/030] 14.48 sec(s) Train Acc: 0.733905 Loss: 0.006059\n",
      "[014/030] 14.44 sec(s) Train Acc: 0.737966 Loss: 0.005831\n",
      "[015/030] 14.45 sec(s) Train Acc: 0.761282 Loss: 0.005350\n",
      "[016/030] 14.43 sec(s) Train Acc: 0.776625 Loss: 0.005002\n",
      "[017/030] 14.54 sec(s) Train Acc: 0.788132 Loss: 0.004772\n",
      "[018/030] 14.49 sec(s) Train Acc: 0.798060 Loss: 0.004534\n",
      "[019/030] 14.48 sec(s) Train Acc: 0.817464 Loss: 0.004065\n",
      "[020/030] 14.55 sec(s) Train Acc: 0.830325 Loss: 0.003860\n",
      "[021/030] 14.50 sec(s) Train Acc: 0.833559 Loss: 0.003723\n",
      "[022/030] 14.46 sec(s) Train Acc: 0.847623 Loss: 0.003395\n",
      "[023/030] 14.50 sec(s) Train Acc: 0.862064 Loss: 0.003011\n",
      "[024/030] 14.41 sec(s) Train Acc: 0.872142 Loss: 0.002849\n",
      "[025/030] 14.50 sec(s) Train Acc: 0.883048 Loss: 0.002629\n",
      "[026/030] 14.53 sec(s) Train Acc: 0.888162 Loss: 0.002494\n",
      "[027/030] 14.48 sec(s) Train Acc: 0.887184 Loss: 0.002489\n",
      "[028/030] 14.48 sec(s) Train Acc: 0.899970 Loss: 0.002177\n",
      "[029/030] 14.47 sec(s) Train Acc: 0.914636 Loss: 0.001907\n",
      "[030/030] 14.49 sec(s) Train Acc: 0.914862 Loss: 0.001919\n"
     ]
    }
   ],
   "source": [
    "model_best = Classifier().cuda()\n",
    "loss = nn.CrossEntropyLoss() # 因为是 classification task，所以 loss 使用 CrossEntropyLoss\n",
    "optimizer = torch.optim.Adam(model_best.parameters(), lr=0.001) # optimizer 使用 Adam\n",
    "num_epoch = 30\n",
    "\n",
    "for epoch in range(num_epoch):\n",
    "    epoch_start_time = time.time()\n",
    "    train_acc = 0.0\n",
    "    train_loss = 0.0\n",
    "\n",
    "    model_best.train()\n",
    "    for i, data in enumerate(train_val_loader):\n",
    "        optimizer.zero_grad()\n",
    "        train_pred = model_best(data[0].cuda())\n",
    "        batch_loss = loss(train_pred, data[1].cuda())\n",
    "        batch_loss.backward()\n",
    "        optimizer.step()\n",
    "\n",
    "        train_acc += np.sum(np.argmax(train_pred.cpu().data.numpy(), axis=1) == data[1].numpy())\n",
    "        train_loss += batch_loss.item()\n",
    "\n",
    "        #将結果 print 出來\n",
    "    print('[%03d/%03d] %2.2f sec(s) Train Acc: %3.6f Loss: %3.6f' % \\\n",
    "      (epoch + 1, num_epoch, time.time()-epoch_start_time, \\\n",
    "      train_acc/train_val_set.__len__(), train_loss/train_val_set.__len__()))"
   ]
  },
  {
   "cell_type": "code",
   "execution_count": 16,
   "metadata": {},
   "outputs": [],
   "source": [
    "test_set = ImgDataset(test_x, transform=test_transform)\n",
    "test_loader = DataLoader(test_set, batch_size=batch_size, shuffle=False)"
   ]
  },
  {
   "cell_type": "code",
   "execution_count": 17,
   "metadata": {},
   "outputs": [],
   "source": [
    "model_best.eval()\n",
    "prediction = []\n",
    "with torch.no_grad():\n",
    "    for i, data in enumerate(test_loader):\n",
    "        test_pred = model_best(data.cuda())\n",
    "        test_label = np.argmax(test_pred.cpu().data.numpy(), axis=1)\n",
    "        for y in test_label:\n",
    "            prediction.append(y)"
   ]
  },
  {
   "cell_type": "code",
   "execution_count": 18,
   "metadata": {},
   "outputs": [],
   "source": [
    "#将结果写入 csv 档\n",
    "with open(\"predict.csv\", 'w') as f:\n",
    "    f.write('Id,Category\\n')\n",
    "    for i, y in  enumerate(prediction):\n",
    "        f.write('{},{}\\n'.format(i, y))"
   ]
  },
  {
   "cell_type": "code",
   "execution_count": 19,
   "metadata": {},
   "outputs": [
    {
     "name": "stdout",
     "output_type": "stream",
     "text": [
      "Saving checkpoint\n"
     ]
    }
   ],
   "source": [
    "def save_checkpoint(state,filename=\"checkpoint.pth\"):\n",
    "    print(\"Saving checkpoint\")\n",
    "    torch.save(state,filename)\n",
    "checkpoint={'state_dict':model_best.state_dict(),'optimizer':optimizer.state_dict()}\n",
    "save_checkpoint(checkpoint)"
   ]
  },
  {
   "cell_type": "code",
   "execution_count": null,
   "metadata": {},
   "outputs": [],
   "source": []
  }
 ],
 "metadata": {
  "kernelspec": {
   "display_name": "Python 3",
   "language": "python",
   "name": "python3"
  },
  "language_info": {
   "codemirror_mode": {
    "name": "ipython",
    "version": 3
   },
   "file_extension": ".py",
   "mimetype": "text/x-python",
   "name": "python",
   "nbconvert_exporter": "python",
   "pygments_lexer": "ipython3",
   "version": "3.6.9"
  }
 },
 "nbformat": 4,
 "nbformat_minor": 4
}
