{
 "cells": [
  {
   "cell_type": "code",
   "execution_count": 2,
   "metadata": {},
   "outputs": [],
   "source": [
    "import torch\n",
    "import torch.nn as nn\n",
    "import torch.nn.functional as F\n",
    "\n",
    "import numpy as np\n",
    "import matplotlib.pyplot as plt\n",
    "\n",
    "torch.manual_seed(446)\n",
    "np.random.seed(46)"
   ]
  },
  {
   "cell_type": "code",
   "execution_count": 3,
   "metadata": {},
   "outputs": [
    {
     "name": "stdout",
     "output_type": "stream",
     "text": [
      "x_numpy,x_torch\n",
      "[0.1 0.2 0.3] tensor([0.1000, 0.2000, 0.3000])\n",
      "\n"
     ]
    }
   ],
   "source": [
    "x_numpy=np.array([0.1,0.2,0.3])\n",
    "x_torch=torch.tensor([0.1,0.2,0.3])\n",
    "print('x_numpy,x_torch')\n",
    "print(x_numpy,x_torch)\n",
    "print()"
   ]
  },
  {
   "cell_type": "code",
   "execution_count": 4,
   "metadata": {},
   "outputs": [
    {
     "name": "stdout",
     "output_type": "stream",
     "text": [
      "to and from numpy, pytorch\n",
      "tensor([0.1000, 0.2000, 0.3000], dtype=torch.float64) [0.1 0.2 0.3]\n",
      "\n"
     ]
    }
   ],
   "source": [
    "# to and from numpy, pytorch\n",
    "print('to and from numpy, pytorch')\n",
    "print(torch.from_numpy(x_numpy),x_torch.numpy())\n",
    "print()"
   ]
  },
  {
   "cell_type": "code",
   "execution_count": 5,
   "metadata": {},
   "outputs": [
    {
     "name": "stdout",
     "output_type": "stream",
     "text": [
      "x+y\n",
      "[3.1 4.2 5.3] tensor([3.1000, 4.2000, 5.3000])\n",
      "\n"
     ]
    }
   ],
   "source": [
    "# We can do basic operations like +-*/\n",
    "y_numpy=np.array([3,4,5.])\n",
    "y_torch=torch.tensor([3,4,5.])\n",
    "print(\"x+y\")\n",
    "print(x_numpy+y_numpy,x_torch+y_torch)\n",
    "print()"
   ]
  },
  {
   "cell_type": "code",
   "execution_count": 6,
   "metadata": {},
   "outputs": [
    {
     "name": "stdout",
     "output_type": "stream",
     "text": [
      "norm\n",
      "0.37416573867739417 tensor(0.3742)\n",
      "\n",
      "[2. 3.] tensor([2., 3.])\n",
      "\n"
     ]
    }
   ],
   "source": [
    "#many functions that are in numpy are also in pytorch\n",
    "print(\"norm\")# 对输入的Tensor求范数\n",
    "print(np.linalg.norm(x_numpy),torch.norm(x_torch))\n",
    "print()\n",
    "\n",
    "x_numpy=np.array([[1,2],[3,4.]])\n",
    "x_torch=torch.tensor([[1,2],[3,4.]])\n",
    "print(np.mean(x_numpy,axis=0),torch.mean(x_torch,dim=0))\n",
    "print()"
   ]
  },
  {
   "cell_type": "code",
   "execution_count": 7,
   "metadata": {},
   "outputs": [
    {
     "name": "stdout",
     "output_type": "stream",
     "text": [
      "torch.Size([10000, 3, 28, 28])\n",
      "torch.Size([10000, 3, 784])\n",
      "torch.Size([10000, 3, 784])\n",
      "\n"
     ]
    }
   ],
   "source": [
    "# \"MNIST\"\n",
    "N,C,W,H=10000,3,28,28\n",
    "X=torch.randn(N,C,W,H)\n",
    "\n",
    "print(X.shape)\n",
    "print(X.view(N,C,784).shape)\n",
    "print(X.view(-1,C,784).shape)\n",
    "print()"
   ]
  },
  {
   "cell_type": "code",
   "execution_count": 9,
   "metadata": {},
   "outputs": [
    {
     "name": "stdout",
     "output_type": "stream",
     "text": [
      "torch.Size([5, 3, 4, 1])\n"
     ]
    }
   ],
   "source": [
    "#Broadcasting Semantics\n",
    "x=torch.empty(5,1,4,1)\n",
    "y=torch.empty(  3,1,1)\n",
    "print((x+y).size())"
   ]
  },
  {
   "cell_type": "code",
   "execution_count": 10,
   "metadata": {},
   "outputs": [
    {
     "name": "stdout",
     "output_type": "stream",
     "text": [
      "c tensor(3., grad_fn=<AddBackward0>)\n",
      "d tensor(2., grad_fn=<AddBackward0>)\n",
      "e tensor(6., grad_fn=<MulBackward0>)\n",
      "\n"
     ]
    }
   ],
   "source": [
    "#计算图\n",
    "a=torch.tensor(2.0,requires_grad=True)\n",
    "b=torch.tensor(1.0,requires_grad=True)\n",
    "c=a+b\n",
    "d=b+1\n",
    "e=c*d\n",
    "print('c',c)\n",
    "print('d',d)\n",
    "print('e',e)\n",
    "print()"
   ]
  },
  {
   "cell_type": "code",
   "execution_count": 11,
   "metadata": {},
   "outputs": [
    {
     "name": "stdout",
     "output_type": "stream",
     "text": [
      "Analytical f'(x): tensor([-2.], grad_fn=<MulBackward0>)\n",
      "PyTorch's f'(x): tensor([-2.])\n"
     ]
    }
   ],
   "source": [
    "#一元函数的导数\n",
    "def f(x):\n",
    "    return (x-2)**2\n",
    "\n",
    "def fp(x):\n",
    "    return 2*(x-2)\n",
    "\n",
    "x = torch.tensor([1.0], requires_grad=True)\n",
    "\n",
    "y = f(x)\n",
    "y.backward()\n",
    "\n",
    "print('Analytical f\\'(x):', fp(x))\n",
    "print('PyTorch\\'s f\\'(x):', x.grad)"
   ]
  },
  {
   "cell_type": "code",
   "execution_count": 12,
   "metadata": {},
   "outputs": [
    {
     "name": "stdout",
     "output_type": "stream",
     "text": [
      "Analytical grad g(w) tensor([2.0000, 5.2832])\n",
      "PyTorch's grad g(w) tensor([2.0000, 5.2832])\n"
     ]
    }
   ],
   "source": [
    "#多元函数的导数\n",
    "def g(w):\n",
    "    return 2*w[0]*w[1] + w[1]*torch.cos(w[0])\n",
    "\n",
    "def grad_g(w):\n",
    "    return torch.tensor([2*w[1] - w[1]*torch.sin(w[0]), 2*w[0] + torch.cos(w[0])])\n",
    "\n",
    "w = torch.tensor([np.pi, 1], requires_grad=True)\n",
    "\n",
    "z = g(w)\n",
    "z.backward()\n",
    "\n",
    "print('Analytical grad g(w)', grad_g(w))\n",
    "print('PyTorch\\'s grad g(w)', w.grad)"
   ]
  },
  {
   "cell_type": "code",
   "execution_count": 13,
   "metadata": {},
   "outputs": [
    {
     "name": "stdout",
     "output_type": "stream",
     "text": [
      "iter,\tx,\tf(x),\tf'(x),\tf'(x) pytorch\n",
      "0,\t5.000,\t9.000,\t6.000,\t6.000\n",
      "1,\t3.500,\t2.250,\t3.000,\t3.000\n",
      "2,\t2.750,\t0.562,\t1.500,\t1.500\n",
      "3,\t2.375,\t0.141,\t0.750,\t0.750\n",
      "4,\t2.188,\t0.035,\t0.375,\t0.375\n",
      "5,\t2.094,\t0.009,\t0.188,\t0.188\n",
      "6,\t2.047,\t0.002,\t0.094,\t0.094\n",
      "7,\t2.023,\t0.001,\t0.047,\t0.047\n",
      "8,\t2.012,\t0.000,\t0.023,\t0.023\n",
      "9,\t2.006,\t0.000,\t0.012,\t0.012\n",
      "10,\t2.003,\t0.000,\t0.006,\t0.006\n",
      "11,\t2.001,\t0.000,\t0.003,\t0.003\n",
      "12,\t2.001,\t0.000,\t0.001,\t0.001\n",
      "13,\t2.000,\t0.000,\t0.001,\t0.001\n",
      "14,\t2.000,\t0.000,\t0.000,\t0.000\n"
     ]
    }
   ],
   "source": [
    "# gradint descent\n",
    "x = torch.tensor([5.0], requires_grad=True)\n",
    "step_size = 0.25\n",
    "\n",
    "print('iter,\\tx,\\tf(x),\\tf\\'(x),\\tf\\'(x) pytorch')\n",
    "for i in range(15):\n",
    "    y = f(x)\n",
    "    y.backward() # compute the gradient\n",
    "    \n",
    "    print('{},\\t{:.3f},\\t{:.3f},\\t{:.3f},\\t{:.3f}'.format(i, x.item(), f(x).item(), fp(x).item(), x.grad.item()))\n",
    "    \n",
    "    x.data = x.data - step_size * x.grad # perform a GD update step\n",
    "    \n",
    "    # We need to zero the grad variable since the backward()\n",
    "    # call accumulates the gradients in .grad instead of overwriting.\n",
    "    # The detach_() is for efficiency. You do not need to worry too much about it.\n",
    "    x.grad.detach_()\n",
    "    x.grad.zero_()"
   ]
  },
  {
   "cell_type": "code",
   "execution_count": 14,
   "metadata": {},
   "outputs": [
    {
     "name": "stdout",
     "output_type": "stream",
     "text": [
      "X shape torch.Size([50, 2])\n",
      "y shape torch.Size([50, 1])\n",
      "w shape torch.Size([2, 1])\n"
     ]
    }
   ],
   "source": [
    "# make a simple linear dataset with some noise\n",
    "d = 2\n",
    "n = 50\n",
    "X = torch.randn(n,d)\n",
    "true_w = torch.tensor([[-1.0], [2.0]])\n",
    "y = X @ true_w + torch.randn(n,1) * 0.1\n",
    "print('X shape', X.shape)\n",
    "print('y shape', y.shape)\n",
    "print('w shape', true_w.shape)"
   ]
  },
  {
   "cell_type": "code",
   "execution_count": 15,
   "metadata": {},
   "outputs": [
    {
     "name": "stdout",
     "output_type": "stream",
     "text": [
      "Analytical gradient [ 5.1867113 -5.5912566]\n",
      "PyTorch's gradient [ 5.186712  -5.5912566]\n"
     ]
    }
   ],
   "source": [
    "# define a linear model with no bias\n",
    "def model(X, w):\n",
    "    return X @ w\n",
    "\n",
    "# the residual sum of squares loss function\n",
    "def rss(y, y_hat):\n",
    "    return torch.norm(y - y_hat)**2 / n\n",
    "\n",
    "# analytical expression for the gradient\n",
    "def grad_rss(X, y, w):\n",
    "    return -2*X.t() @ (y - X @ w) / n\n",
    "\n",
    "w = torch.tensor([[1.], [0]], requires_grad=True)\n",
    "y_hat = model(X, w)\n",
    "\n",
    "loss = rss(y, y_hat)\n",
    "loss.backward()\n",
    "\n",
    "print('Analytical gradient', grad_rss(X, y, w).detach().view(2).numpy())\n",
    "print('PyTorch\\'s gradient', w.grad.view(2).numpy())"
   ]
  },
  {
   "cell_type": "code",
   "execution_count": 16,
   "metadata": {},
   "outputs": [
    {
     "name": "stdout",
     "output_type": "stream",
     "text": [
      "iter,\tloss,\tw\n",
      "0,\t10.80,\t[-0.03734243  1.1182513 ]\n",
      "1,\t2.31,\t[-0.28690195  1.3653738 ]\n",
      "2,\t1.24,\t[-0.4724271  1.5428905]\n",
      "3,\t0.67,\t[-0.6105486  1.6702049]\n",
      "4,\t0.36,\t[-0.71353513  1.7613506 ]\n",
      "5,\t0.20,\t[-0.79044634  1.8264704 ]\n",
      "6,\t0.11,\t[-0.8479796  1.8728881]\n",
      "7,\t0.06,\t[-0.89109135  1.9058872 ]\n",
      "8,\t0.04,\t[-0.92345405  1.9292755 ]\n",
      "9,\t0.03,\t[-0.94779253  1.9457937 ]\n",
      "10,\t0.02,\t[-0.9661309  1.957412 ]\n",
      "11,\t0.01,\t[-0.97997516  1.9655445 ]\n",
      "12,\t0.01,\t[-0.9904472  1.9712044]\n",
      "13,\t0.01,\t[-0.9983844  1.9751165]\n",
      "14,\t0.01,\t[-1.0044125  1.9777979]\n",
      "15,\t0.01,\t[-1.0090001  1.9796168]\n",
      "16,\t0.01,\t[-1.0124985  1.9808345]\n",
      "17,\t0.01,\t[-1.0151719  1.9816359]\n",
      "18,\t0.01,\t[-1.0172188  1.9821515]\n",
      "19,\t0.01,\t[-1.0187894  1.9824725]\n",
      "\n",
      "true w\t\t [-1.  2.]\n",
      "estimated w\t [-1.0187894  1.9824725]\n"
     ]
    }
   ],
   "source": [
    "step_size = 0.1\n",
    "\n",
    "print('iter,\\tloss,\\tw')\n",
    "for i in range(20):\n",
    "    y_hat = model(X, w)\n",
    "    loss = rss(y, y_hat)\n",
    "    \n",
    "    loss.backward() # compute the gradient of the loss\n",
    "    \n",
    "    w.data = w.data - step_size * w.grad # do a gradient descent step\n",
    "    \n",
    "    print('{},\\t{:.2f},\\t{}'.format(i, loss.item(), w.view(2).detach().numpy()))\n",
    "    \n",
    "    # We need to zero the grad variable since the backward()\n",
    "    # call accumulates the gradients in .grad instead of overwriting.\n",
    "    # The detach_() is for efficiency. You do not need to worry too much about it.\n",
    "    w.grad.detach()\n",
    "    w.grad.zero_()\n",
    "\n",
    "print('\\ntrue w\\t\\t', true_w.view(2).numpy())\n",
    "print('estimated w\\t', w.view(2).detach().numpy())"
   ]
  },
  {
   "cell_type": "code",
   "execution_count": 42,
   "metadata": {},
   "outputs": [
    {
     "name": "stdout",
     "output_type": "stream",
     "text": [
      "example_tensor torch.Size([2, 3])\n",
      "transormed torch.Size([2, 4])\n",
      "\n",
      "We can see that the weights exist in the background\n",
      "\n",
      "W: Parameter containing:\n",
      "tensor([[ 0.5323, -0.1754, -0.4207],\n",
      "        [ 0.2599,  0.1367,  0.3132],\n",
      "        [ 0.4999,  0.4798, -0.3693],\n",
      "        [-0.1332,  0.0051, -0.3355]], requires_grad=True)\n",
      "b: Parameter containing:\n",
      "tensor([-0.2845,  0.1582, -0.3973,  0.4890], requires_grad=True)\n",
      "(4, 3) (2, 3) (4,) (2, 4)\n",
      "[[-1.3651319   1.6311052  -0.04583892 -0.6404307 ]\n",
      " [-1.5566453   3.7604907   1.7852659  -2.031169  ]]\n",
      "[[-1.3651319   1.6311052  -0.04583895 -0.6404307 ]\n",
      " [-1.5566454   3.7604907   1.7852659  -2.0311687 ]]\n"
     ]
    }
   ],
   "source": [
    "# Linear Module\n",
    "d_in = 3\n",
    "d_out = 4\n",
    "linear_module = nn.Linear(d_in, d_out)\n",
    "\n",
    "example_tensor = torch.tensor([[1.,2,3], [4,5,6]])# 2笔data\n",
    "# applys a linear transformation to the data   2*4=(2*3)@(3*4)+1*4(broadcasting->2*4)\n",
    "transformed = linear_module(example_tensor)\n",
    "print('example_tensor', example_tensor.shape)\n",
    "print('transormed', transformed.shape)\n",
    "print()\n",
    "print('We can see that the weights exist in the background\\n')\n",
    "print('W:', linear_module.weight)\n",
    "print('b:', linear_module.bias)\n",
    "w=linear_module.weight.detach().numpy()\n",
    "x=example_tensor.numpy()\n",
    "b=linear_module.bias.detach().numpy()\n",
    "y=transformed.detach().numpy()\n",
    "# b=np.reshape(4,1)\n",
    "print(w.shape,x.shape,b.shape,y.shape)\n",
    "print(y)\n",
    "print(np.dot(x,w.T)+b.T)"
   ]
  },
  {
   "cell_type": "code",
   "execution_count": 18,
   "metadata": {},
   "outputs": [
    {
     "name": "stdout",
     "output_type": "stream",
     "text": [
      "example_tensor tensor([-1.,  1.,  0.])\n",
      "activated tensor([0., 1., 0.])\n"
     ]
    }
   ],
   "source": [
    "# Activation function\n",
    "activation_fn = nn.ReLU() # we instantiate an instance of the ReLU module\n",
    "example_tensor = torch.tensor([-1.0, 1.0, 0.0])\n",
    "activated = activation_fn(example_tensor)\n",
    "print('example_tensor', example_tensor)\n",
    "print('activated', activated)"
   ]
  },
  {
   "cell_type": "code",
   "execution_count": 19,
   "metadata": {},
   "outputs": [
    {
     "name": "stdout",
     "output_type": "stream",
     "text": [
      "transformed torch.Size([2, 1])\n",
      "Parameter containing:\n",
      "tensor([[-0.1409,  0.0518,  0.3034],\n",
      "        [ 0.0913,  0.2452, -0.2616],\n",
      "        [ 0.5021,  0.0118,  0.1383],\n",
      "        [ 0.4757, -0.3128,  0.2707]], requires_grad=True)\n",
      "Parameter containing:\n",
      "tensor([-0.3952,  0.1285,  0.1777, -0.4675], requires_grad=True)\n",
      "Parameter containing:\n",
      "tensor([[ 0.0391, -0.4876, -0.1731,  0.4704]], requires_grad=True)\n",
      "Parameter containing:\n",
      "tensor([0.0454], requires_grad=True)\n"
     ]
    }
   ],
   "source": [
    "# Sequential\n",
    "d_in = 3\n",
    "d_hidden = 4\n",
    "d_out = 1\n",
    "model = torch.nn.Sequential(\n",
    "                            nn.Linear(d_in, d_hidden),\n",
    "                            nn.Tanh(),\n",
    "                            nn.Linear(d_hidden, d_out),\n",
    "                            nn.Sigmoid()\n",
    "                           )\n",
    "\n",
    "example_tensor = torch.tensor([[1.,2,3],[4,5,6]])\n",
    "transformed = model(example_tensor)\n",
    "print('transformed', transformed.shape)\n",
    "params = model.parameters()\n",
    "for param in params:\n",
    "    print(param)"
   ]
  },
  {
   "cell_type": "code",
   "execution_count": 20,
   "metadata": {},
   "outputs": [
    {
     "name": "stdout",
     "output_type": "stream",
     "text": [
      "tensor(0.6667)\n"
     ]
    }
   ],
   "source": [
    "#loss function\n",
    "mse_loss_fn = nn.MSELoss()\n",
    "\n",
    "input = torch.tensor([[0., 0, 0]])\n",
    "target = torch.tensor([[1., 0, -1]])\n",
    "\n",
    "loss = mse_loss_fn(input, target)\n",
    "\n",
    "print(loss)"
   ]
  },
  {
   "cell_type": "code",
   "execution_count": 21,
   "metadata": {},
   "outputs": [
    {
     "name": "stdout",
     "output_type": "stream",
     "text": [
      "model params before: Parameter containing:\n",
      "tensor([[0.1950]], requires_grad=True)\n",
      "model params after: Parameter containing:\n",
      "tensor([[0.2219]], requires_grad=True)\n",
      "\n"
     ]
    }
   ],
   "source": [
    "# create a simple model\n",
    "model = nn.Linear(1, 1)\n",
    "\n",
    "# create a simple dataset\n",
    "X_simple = torch.tensor([[1.]])\n",
    "y_simple = torch.tensor([[2.]])\n",
    "\n",
    "# create our optimizer\n",
    "optim = torch.optim.SGD(model.parameters(), lr=1e-2)\n",
    "mse_loss_fn = nn.MSELoss()\n",
    "\n",
    "y_hat = model(X_simple)\n",
    "print('model params before:', model.weight)\n",
    "loss = mse_loss_fn(y_hat, y_simple)\n",
    "optim.zero_grad()\n",
    "loss.backward()\n",
    "optim.step()\n",
    "print('model params after:', model.weight)\n",
    "print()"
   ]
  },
  {
   "cell_type": "code",
   "execution_count": 22,
   "metadata": {},
   "outputs": [
    {
     "name": "stdout",
     "output_type": "stream",
     "text": [
      "iter,\tloss,\tw\n",
      "0,\t4.37,\t[-0.5072827  0.7721884]\n",
      "1,\t2.34,\t[-0.6624694  1.0903175]\n",
      "2,\t1.25,\t[-0.77252483  1.3242052 ]\n",
      "3,\t0.67,\t[-0.8503067  1.4962891]\n",
      "4,\t0.36,\t[-0.90506    1.6230037]\n",
      "5,\t0.20,\t[-0.94342256  1.716392  ]\n",
      "6,\t0.11,\t[-0.9701522  1.7852831]\n",
      "7,\t0.06,\t[-0.98865306  1.8361537 ]\n",
      "8,\t0.04,\t[-1.0013554  1.8737577]\n",
      "9,\t0.02,\t[-1.0099901  1.9015862]\n",
      "10,\t0.02,\t[-1.0157865  1.9222052]\n",
      "11,\t0.01,\t[-1.019615   1.9375019]\n",
      "12,\t0.01,\t[-1.0220896  1.9488654]\n",
      "13,\t0.01,\t[-1.0236413  1.9573189]\n",
      "14,\t0.01,\t[-1.0245715  1.963617 ]\n",
      "15,\t0.01,\t[-1.0250894  1.9683164]\n",
      "16,\t0.01,\t[-1.0253391  1.9718288]\n",
      "17,\t0.01,\t[-1.0254192  1.9744583]\n",
      "18,\t0.01,\t[-1.0253965  1.9764304]\n",
      "19,\t0.01,\t[-1.025315   1.9779121]\n",
      "\n",
      "true w\t\t [-1.  2.]\n",
      "estimated w\t [-1.025315   1.9779121]\n"
     ]
    }
   ],
   "source": [
    "# Now let's combine what we've learned to solve linear regression in a \"PyTorchic\" way.\n",
    "step_size = 0.1\n",
    "\n",
    "linear_module = nn.Linear(d, 1, bias=False)\n",
    "\n",
    "loss_func = nn.MSELoss()\n",
    "\n",
    "optim = torch.optim.SGD(linear_module.parameters(), lr=step_size)\n",
    "\n",
    "print('iter,\\tloss,\\tw')\n",
    "\n",
    "for i in range(20):\n",
    "    y_hat = linear_module(X)\n",
    "    loss = loss_func(y_hat, y)\n",
    "    optim.zero_grad()\n",
    "    loss.backward()\n",
    "    optim.step()\n",
    "    \n",
    "    print('{},\\t{:.2f},\\t{}'.format(i, loss.item(), linear_module.weight.view(2).detach().numpy()))\n",
    "\n",
    "print('\\ntrue w\\t\\t', true_w.view(2).numpy())\n",
    "print('estimated w\\t', linear_module.weight.view(2).detach().numpy())"
   ]
  },
  {
   "cell_type": "code",
   "execution_count": 23,
   "metadata": {},
   "outputs": [
    {
     "name": "stdout",
     "output_type": "stream",
     "text": [
      "iter,\tloss,\tw\n",
      "0,\t1.84,\t[-0.19531874  0.6985982 ]\n",
      "20,\t0.31,\t[-0.6623592  1.208342 ]\n",
      "40,\t0.14,\t[-0.87730724  1.377699  ]\n",
      "60,\t0.19,\t[-0.89077604  1.5197719 ]\n",
      "80,\t0.03,\t[-0.91331697  1.720096  ]\n",
      "100,\t0.35,\t[-0.9158753  1.8318129]\n",
      "120,\t0.02,\t[-0.93202627  1.8720264 ]\n",
      "140,\t0.05,\t[-0.9732641  1.9249276]\n",
      "160,\t0.02,\t[-0.975516   1.9565499]\n",
      "180,\t0.01,\t[-0.9911606  1.9754735]\n",
      "\n",
      "true w\t\t [-1.  2.]\n",
      "estimated w\t [-0.9962842  1.9714775]\n"
     ]
    }
   ],
   "source": [
    "# SGD\n",
    "step_size = 0.01\n",
    "\n",
    "linear_module = nn.Linear(d, 1)\n",
    "loss_func = nn.MSELoss()\n",
    "optim = torch.optim.SGD(linear_module.parameters(), lr=step_size)\n",
    "print('iter,\\tloss,\\tw')\n",
    "for i in range(200):\n",
    "    rand_idx = np.random.choice(n) # take a random point from the dataset\n",
    "    x = X[rand_idx] \n",
    "    y_hat = linear_module(x)\n",
    "    loss = loss_func(y_hat, y[rand_idx]) # only compute the loss on the single point\n",
    "    optim.zero_grad()\n",
    "    loss.backward()\n",
    "    optim.step()\n",
    "    \n",
    "    if i % 20 == 0:\n",
    "        print('{},\\t{:.2f},\\t{}'.format(i, loss.item(), linear_module.weight.view(2).detach().numpy()))\n",
    "\n",
    "print('\\ntrue w\\t\\t', true_w.view(2).numpy())\n",
    "print('estimated w\\t', linear_module.weight.view(2).detach().numpy())"
   ]
  },
  {
   "cell_type": "code",
   "execution_count": 24,
   "metadata": {},
   "outputs": [
    {
     "data": {
      "image/png": "[encoded data removed]",
      "text/plain": [
       "<Figure size 432x288 with 1 Axes>"
      ]
     },
     "metadata": {
      "needs_background": "light"
     },
     "output_type": "display_data"
    }
   ],
   "source": [
    "d=1\n",
    "n=200\n",
    "X=torch.rand(n,d)\n",
    "y=4*torch.sin(np.pi*X)*torch.cos(6*np.pi*X**2)\n",
    "\n",
    "plt.scatter(X.numpy(),y.numpy())\n",
    "plt.title('plot of $f(x)$')\n",
    "plt.xlabel('$x$')\n",
    "plt.ylabel('$y$')\n",
    "plt.show()"
   ]
  },
  {
   "cell_type": "code",
   "execution_count": 25,
   "metadata": {},
   "outputs": [
    {
     "name": "stdout",
     "output_type": "stream",
     "text": [
      "iter,\tloss\n",
      "0,\t3.96\n",
      "600,\t3.69\n",
      "1200,\t2.58\n",
      "1800,\t1.10\n",
      "2400,\t0.91\n",
      "3000,\t0.68\n",
      "3600,\t0.14\n",
      "4200,\t0.08\n",
      "4800,\t0.06\n",
      "5400,\t0.20\n"
     ]
    }
   ],
   "source": [
    "# feel free to play with these parameters\n",
    "step_size=0.05\n",
    "n_epochs=6000\n",
    "n_hidden_1=32\n",
    "n_hidden_2=32\n",
    "d_out=1\n",
    "\n",
    "neural_network=nn.Sequential(\n",
    "    nn.Linear(d,n_hidden_1),\n",
    "    nn.Tanh(),\n",
    "    nn.Linear(n_hidden_1,n_hidden_2),\n",
    "    nn.Tanh(),\n",
    "    nn.Linear(n_hidden_2,d_out)\n",
    ")\n",
    "loss_func=nn.MSELoss()\n",
    "optim=torch.optim.SGD(neural_network.parameters(),lr=step_size)\n",
    "print('iter,\\tloss')\n",
    "for i in range(n_epochs):\n",
    "    y_hat=neural_network(X)\n",
    "    loss=loss_func(y_hat,y)\n",
    "    optim.zero_grad()\n",
    "    loss.backward()\n",
    "    optim.step()\n",
    "\n",
    "    if i%(n_epochs//10)==0:\n",
    "        print('{},\\t{:.2f}'.format(i,loss.item()))"
   ]
  },
  {
   "cell_type": "code",
   "execution_count": 26,
   "metadata": {},
   "outputs": [
    {
     "data": {
      "image/png": "[encoded data removed]",
      "text/plain": [
       "<Figure size 432x288 with 1 Axes>"
      ]
     },
     "metadata": {
      "needs_background": "light"
     },
     "output_type": "display_data"
    }
   ],
   "source": [
    "X_grid=torch.from_numpy(np.linspace(0,1,50)).float().view(-1,d)\n",
    "y_hat=neural_network(X_grid)\n",
    "plt.scatter(X.numpy(),y.numpy())\n",
    "plt.plot(X_grid.detach().numpy(),y_hat.detach().numpy(),'r')\n",
    "plt.title('plot of $f(x)$ and $\\hat{f}{x}$')\n",
    "plt.xlabel('$x$')\n",
    "plt.ylabel('$y$')\n",
    "plt.show()"
   ]
  },
  {
   "cell_type": "code",
   "execution_count": null,
   "metadata": {},
   "outputs": [],
   "source": []
  }
 ],
 "metadata": {
  "kernelspec": {
   "display_name": "Python 3",
   "language": "python",
   "name": "python3"
  },
  "language_info": {
   "codemirror_mode": {
    "name": "ipython",
    "version": 3
   },
   "file_extension": ".py",
   "mimetype": "text/x-python",
   "name": "python",
   "nbconvert_exporter": "python",
   "pygments_lexer": "ipython3",
   "version": "3.6.9"
  }
 },
 "nbformat": 4,
 "nbformat_minor": 4
}
